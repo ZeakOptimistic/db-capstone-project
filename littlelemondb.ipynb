{
 "cells": [
  {
   "cell_type": "markdown",
   "id": "ce32742b",
   "metadata": {},
   "source": [
    "# Set up the client project"
   ]
  },
  {
   "cell_type": "markdown",
   "id": "1c831d3e",
   "metadata": {},
   "source": [
    "### Task 1"
   ]
  },
  {
   "cell_type": "code",
   "execution_count": 4,
   "id": "24dbef21",
   "metadata": {},
   "outputs": [],
   "source": [
    "import mysql.connector as connector\n",
    "from mysql.connector import Error"
   ]
  },
  {
   "cell_type": "code",
   "execution_count": 5,
   "id": "a9ada6a1",
   "metadata": {},
   "outputs": [
    {
     "name": "stdout",
     "output_type": "stream",
     "text": [
      "Connection between MySQL and Python is established.\n",
      "\n"
     ]
    }
   ],
   "source": [
    "try:\n",
    "    connection = connector.connect(user = \"lemon_admin\", password = \"lemon_admin\")\n",
    "except Error as er:\n",
    "    print(er.msg)\n",
    "\n",
    "print(\"Connection between MySQL and Python is established.\\n\")"
   ]
  },
  {
   "cell_type": "code",
   "execution_count": 6,
   "id": "d9efe3e1",
   "metadata": {},
   "outputs": [
    {
     "name": "stdout",
     "output_type": "stream",
     "text": [
      "Cursor is created to communicate with the MySQL using Python.\n"
     ]
    }
   ],
   "source": [
    "cursor = connection.cursor()\n",
    "print(\"Cursor is created to communicate with the MySQL using Python.\")"
   ]
  },
  {
   "cell_type": "markdown",
   "id": "7767fddf",
   "metadata": {},
   "source": [
    "# Add query functions"
   ]
  },
  {
   "cell_type": "code",
   "execution_count": 7,
   "id": "25a60b38",
   "metadata": {},
   "outputs": [
    {
     "name": "stdout",
     "output_type": "stream",
     "text": [
      "The database LittleLemonDB is set for use.\n"
     ]
    }
   ],
   "source": [
    "cursor.execute(\"USE LittleLemonDB\")\n",
    "connection.database\n",
    "print(\"The database LittleLemonDB is set for use.\")"
   ]
  },
  {
   "cell_type": "code",
   "execution_count": 8,
   "id": "fdf956a9",
   "metadata": {},
   "outputs": [
    {
     "name": "stdout",
     "output_type": "stream",
     "text": [
      "('Tables_in_littlelemondb',)\n",
      "('address',)\n",
      "('bookings',)\n",
      "('customers',)\n",
      "('delivery_status',)\n",
      "('menu',)\n",
      "('orders',)\n",
      "('ordersmenu',)\n",
      "('ordersview',)\n",
      "('staff',)\n"
     ]
    }
   ],
   "source": [
    "show_tables_query = \"SHOW TABLES;\" \n",
    "\n",
    "cursor.execute(show_tables_query)\n",
    "\n",
    "results=cursor.fetchall()\n",
    "\n",
    "columns=cursor.column_names\n",
    "\n",
    "print(columns)\n",
    "for result in results:\n",
    "    print(result)"
   ]
  },
  {
   "cell_type": "code",
   "execution_count": 15,
   "id": "58bcf6e4",
   "metadata": {},
   "outputs": [],
   "source": [
    "join_query = \"\"\" SELECT Customers.Name,\n",
    "Customers.PhoneNumber,\n",
    "Customers.Email,\n",
    "Orders.TotalCost\n",
    "FROM Customers\n",
    "LEFT JOIN Orders\n",
    "ON Customers.CustomerID = Orders.CustomerID\n",
    "WHERE Orders.TotalCost > 60;\n",
    "\"\"\""
   ]
  },
  {
   "cell_type": "code",
   "execution_count": 16,
   "id": "9cbea2c0",
   "metadata": {},
   "outputs": [],
   "source": [
    "cursor.execute(join_query)"
   ]
  },
  {
   "cell_type": "code",
   "execution_count": 17,
   "id": "af090544",
   "metadata": {},
   "outputs": [],
   "source": [
    "results = cursor.fetchall()"
   ]
  },
  {
   "cell_type": "code",
   "execution_count": 18,
   "id": "c3904fe9",
   "metadata": {},
   "outputs": [
    {
     "name": "stdout",
     "output_type": "stream",
     "text": [
      "('Name', 'PhoneNumber', 'Email', 'TotalCost')\n",
      "('Jane Smith', '9876543210', 'jane.smith@email.com', Decimal('75.00'))\n",
      "('Emily Davis', '1112223333', 'emily.davis@email.com', Decimal('100.00'))\n"
     ]
    }
   ],
   "source": [
    "columns=cursor.column_names\n",
    "print(columns)\n",
    "for result in results:\n",
    "    print(result)"
   ]
  },
  {
   "cell_type": "code",
   "execution_count": 19,
   "id": "a4397afe",
   "metadata": {},
   "outputs": [
    {
     "name": "stdout",
     "output_type": "stream",
     "text": [
      "The cursor is closed.\n",
      "MySQL connection is closed.\n"
     ]
    }
   ],
   "source": [
    "if connection.is_connected():\n",
    "    cursor.close()\n",
    "    print(\"The cursor is closed.\")\n",
    "    connection.close()\n",
    "    print(\"MySQL connection is closed.\")\n",
    "else:\n",
    "    print(\"Connection is already closed\")"
   ]
  },
  {
   "cell_type": "code",
   "execution_count": null,
   "id": "657f26c8",
   "metadata": {},
   "outputs": [],
   "source": []
  }
 ],
 "metadata": {
  "kernelspec": {
   "display_name": "Python 3",
   "language": "python",
   "name": "python3"
  },
  "language_info": {
   "codemirror_mode": {
    "name": "ipython",
    "version": 3
   },
   "file_extension": ".py",
   "mimetype": "text/x-python",
   "name": "python",
   "nbconvert_exporter": "python",
   "pygments_lexer": "ipython3",
   "version": "3.10.11"
  }
 },
 "nbformat": 4,
 "nbformat_minor": 5
}
